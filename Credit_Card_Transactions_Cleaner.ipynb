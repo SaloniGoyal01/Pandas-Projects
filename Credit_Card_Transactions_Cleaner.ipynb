{
 "cells": [
  {
   "cell_type": "code",
   "execution_count": 4,
   "id": "17692106",
   "metadata": {},
   "outputs": [
    {
     "name": "stdout",
     "output_type": "stream",
     "text": [
      "📦 Original Data:\n",
      "   TransactionID        Date  Amount  Merchant  Category\n",
      "0           1001  2024-01-01   500.0    Amazon  Shopping\n",
      "1           1002  2024-01-02     NaN  Flipkart  Shopping\n",
      "2           1003  2024-01-03  1500.0    Zomato      Food\n",
      "3           1004  2024-01-04   600.0      None      Food\n",
      "4           1005  2024-01-04  1500.0    Zomato      Food\n",
      "5           1005  2024-01-04  1500.0    Zomato      Food\n",
      "6           1006  2024-01-05   250.0      Uber    Travel\n",
      "\n",
      "✅ After removing duplicates:\n",
      "   TransactionID        Date  Amount  Merchant  Category\n",
      "0           1001  2024-01-01   500.0    Amazon  Shopping\n",
      "1           1002  2024-01-02     NaN  Flipkart  Shopping\n",
      "2           1003  2024-01-03  1500.0    Zomato      Food\n",
      "3           1004  2024-01-04   600.0      None      Food\n",
      "4           1005  2024-01-04  1500.0    Zomato      Food\n",
      "6           1006  2024-01-05   250.0      Uber    Travel\n",
      "\n",
      "🔍 Missing values:\n",
      "TransactionID    0\n",
      "Date             0\n",
      "Amount           1\n",
      "Merchant         1\n",
      "Category         0\n",
      "dtype: int64\n",
      "\n",
      "🧼 Cleaned Data:\n",
      "   TransactionID        Date  Amount  Merchant  Category\n",
      "0           1001  2024-01-01   500.0    Amazon  Shopping\n",
      "1           1002  2024-01-02     0.0  Flipkart  Shopping\n",
      "2           1003  2024-01-03  1500.0    Zomato      Food\n",
      "3           1004  2024-01-04   600.0   Unknown      Food\n",
      "4           1005  2024-01-04  1500.0    Zomato      Food\n",
      "6           1006  2024-01-05   250.0      Uber    Travel\n"
     ]
    }
   ],
   "source": [
    "import pandas as pd\n",
    "\n",
    "# Step 1: Create sample data\n",
    "data = [\n",
    "    {'TransactionID': 1001, 'Date': '2024-01-01', 'Amount': 500, 'Merchant': 'Amazon', 'Category': 'Shopping'},\n",
    "    {'TransactionID': 1002, 'Date': '2024-01-02', 'Amount': None, 'Merchant': 'Flipkart', 'Category': 'Shopping'},\n",
    "    {'TransactionID': 1003, 'Date': '2024-01-03', 'Amount': 1500, 'Merchant': 'Zomato', 'Category': 'Food'},\n",
    "    {'TransactionID': 1004, 'Date': '2024-01-04', 'Amount': 600, 'Merchant': None, 'Category': 'Food'},\n",
    "    {'TransactionID': 1005, 'Date': '2024-01-04', 'Amount': 1500, 'Merchant': 'Zomato', 'Category': 'Food'},\n",
    "    {'TransactionID': 1005, 'Date': '2024-01-04', 'Amount': 1500, 'Merchant': 'Zomato', 'Category': 'Food'},  # Duplicate\n",
    "    {'TransactionID': 1006, 'Date': '2024-01-05', 'Amount': 250, 'Merchant': 'Uber', 'Category': 'Travel'}\n",
    "]\n",
    "\n",
    "# Step 2: Convert to DataFrame\n",
    "df = pd.DataFrame(data)\n",
    "print(\"📦 Original Data:\")\n",
    "print(df)\n",
    "\n",
    "# Step 3: Remove duplicate rows\n",
    "df = df.drop_duplicates()\n",
    "print(\"\\n✅ After removing duplicates:\")\n",
    "print(df)\n",
    "\n",
    "# Step 4: Show missing values\n",
    "print(\"\\n🔍 Missing values:\")\n",
    "print(df.isnull().sum())\n",
    "\n",
    "# Step 5: Fill missing Amount with 0\n",
    "df['Amount'].fillna(0, inplace=True)\n",
    "\n",
    "# Step 6: Fill missing Merchant with \"Unknown\"\n",
    "df['Merchant'].fillna(\"Unknown\", inplace=True)\n",
    "\n",
    "# Step 7: Final cleaned data\n",
    "print(\"\\n🧼 Cleaned Data:\")\n",
    "print(df)\n"
   ]
  }
 ],
 "metadata": {
  "kernelspec": {
   "display_name": "Python 3",
   "language": "python",
   "name": "python3"
  },
  "language_info": {
   "codemirror_mode": {
    "name": "ipython",
    "version": 3
   },
   "file_extension": ".py",
   "mimetype": "text/x-python",
   "name": "python",
   "nbconvert_exporter": "python",
   "pygments_lexer": "ipython3",
   "version": "3.10.0"
  }
 },
 "nbformat": 4,
 "nbformat_minor": 5
}
